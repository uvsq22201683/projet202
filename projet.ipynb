{
 "cells": [
  {
   "attachments": {},
   "cell_type": "markdown",
   "metadata": {},
   "source": [
    "## Outils pour la manipulation d'images et librairies.\n"
   ]
  },
  {
   "cell_type": "code",
   "execution_count": 46,
   "metadata": {},
   "outputs": [],
   "source": [
    "import PIL\n",
    "from PIL import Image\n",
    "import numpy as np\n",
    "import scipy as sp\n",
    "import os\n",
    "from math import log10, sqrt\n",
    "\n",
    "def load(filename):\n",
    "    toLoad= Image.open(filename)\n",
    "    return np.asarray(toLoad)\n",
    "\n",
    "\n",
    "def psnr(original, compressed):\n",
    "    mse = np.mean((original - compressed) ** 2)\n",
    "    max_pixel = 255.0\n",
    "    psnr = 20 * log10(max_pixel / sqrt(mse))\n",
    "    return psnr\n",
    "\n",
    "def dct2(a):\n",
    "    return sp.fft.dct( sp.fft.dct( a, axis=0, norm='ortho' ), axis=1, norm='ortho' )\n",
    "\n",
    "def idct2(a):\n",
    "    return sp.fft.idct( sp.fft.idct( a, axis=0 , norm='ortho'), axis=1 , norm='ortho')\n",
    "\n",
    "def save(a):\n",
    "    Image.fromarray(a).save('./test1.png')\n",
    "    \n",
    "\n"
   ]
  },
  {
   "attachments": {},
   "cell_type": "markdown",
   "metadata": {},
   "source": [
    "## Normalisation de l'image (YCbCr et padding)"
   ]
  },
  {
   "cell_type": "code",
   "execution_count": 138,
   "metadata": {},
   "outputs": [],
   "source": [
    "def to_Y_Cb_Cr(filename): \n",
    "    image = load(filename)\n",
    "    Y = 0.299*image[:, :, 0] + 0.587*image[:, :, 1] + 0.114*image[:, :, 2]\n",
    "    Cb = -0.1687*image[:, :, 0] - 0.3313*image[:, :, 1] + 0.5*image[:, :, 2] + 128\n",
    "    Cr = 0.5*image[:, :, 0] - 0.4187*image[:, :, 1] - 0.0813*image[:, :, 2] +128\n",
    "    return Y, Cb, Cr # choisir float (+info) ou int(+compression)? plutot int car apres enlever des 0?"
   ]
  },
  {
   "cell_type": "code",
   "execution_count": 139,
   "metadata": {},
   "outputs": [],
   "source": [
    "def to_RGB(Y, Cb, Cr): \n",
    "    R = np.array(np.rint(Y + 1.402*(Cr-128)), dtype='uint8')\n",
    "    G = np.array(np.rint(Y - 0.34414*(Cb-128) - 0.71414*(Cr-128)), dtype='uint8')\n",
    "    B = np.array(np.rint(Y + 1.772*(Cb-128)), dtype='uint8')\n",
    "    image = np.dstack((R,G, B))\n",
    "\n",
    "    return image"
   ]
  },
  {
   "cell_type": "code",
   "execution_count": 140,
   "metadata": {},
   "outputs": [
    {
     "ename": "ZeroDivisionError",
     "evalue": "float division by zero",
     "output_type": "error",
     "traceback": [
      "\u001b[1;31m---------------------------------------------------------------------------\u001b[0m",
      "\u001b[1;31mZeroDivisionError\u001b[0m                         Traceback (most recent call last)",
      "\u001b[1;32mc:\\Users\\User\\Documents\\codage\\projet_IN202 (1)\\projet.ipynb Cell 6\u001b[0m in \u001b[0;36m6\n\u001b[0;32m      <a href='vscode-notebook-cell:/c%3A/Users/User/Documents/codage/projet_IN202%20%281%29/projet.ipynb#X16sZmlsZQ%3D%3D?line=2'>3</a>\u001b[0m compressed \u001b[39m=\u001b[39m to_RGB(y, cb, cr)\n\u001b[0;32m      <a href='vscode-notebook-cell:/c%3A/Users/User/Documents/codage/projet_IN202%20%281%29/projet.ipynb#X16sZmlsZQ%3D%3D?line=3'>4</a>\u001b[0m \u001b[39m#save(compressed)\u001b[39;00m\n\u001b[1;32m----> <a href='vscode-notebook-cell:/c%3A/Users/User/Documents/codage/projet_IN202%20%281%29/projet.ipynb#X16sZmlsZQ%3D%3D?line=5'>6</a>\u001b[0m \u001b[39mprint\u001b[39m(psnr(original, compressed))\n",
      "\u001b[1;32mc:\\Users\\User\\Documents\\codage\\projet_IN202 (1)\\projet.ipynb Cell 6\u001b[0m in \u001b[0;36m8\n\u001b[0;32m      <a href='vscode-notebook-cell:/c%3A/Users/User/Documents/codage/projet_IN202%20%281%29/projet.ipynb#X16sZmlsZQ%3D%3D?line=5'>6</a>\u001b[0m mse \u001b[39m=\u001b[39m np\u001b[39m.\u001b[39mmean((original \u001b[39m-\u001b[39m compressed) \u001b[39m*\u001b[39m\u001b[39m*\u001b[39m \u001b[39m2\u001b[39m)\n\u001b[0;32m      <a href='vscode-notebook-cell:/c%3A/Users/User/Documents/codage/projet_IN202%20%281%29/projet.ipynb#X16sZmlsZQ%3D%3D?line=6'>7</a>\u001b[0m max_pixel \u001b[39m=\u001b[39m \u001b[39m255.0\u001b[39m\n\u001b[1;32m----> <a href='vscode-notebook-cell:/c%3A/Users/User/Documents/codage/projet_IN202%20%281%29/projet.ipynb#X16sZmlsZQ%3D%3D?line=7'>8</a>\u001b[0m psnr \u001b[39m=\u001b[39m \u001b[39m20\u001b[39m \u001b[39m*\u001b[39m log10(max_pixel \u001b[39m/\u001b[39;49m sqrt(mse))\n\u001b[0;32m      <a href='vscode-notebook-cell:/c%3A/Users/User/Documents/codage/projet_IN202%20%281%29/projet.ipynb#X16sZmlsZQ%3D%3D?line=8'>9</a>\u001b[0m \u001b[39mreturn\u001b[39;00m psnr\n",
      "\u001b[1;31mZeroDivisionError\u001b[0m: float division by zero"
     ]
    }
   ],
   "source": [
    "original = load('./test.png')\n",
    "y, cb, cr = to_Y_Cb_Cr('./test.png')\n",
    "compressed = to_RGB(y, cb, cr)\n",
    "#save(compressed)\n",
    "\n",
    "print(psnr(original, compressed))"
   ]
  },
  {
   "cell_type": "code",
   "execution_count": null,
   "metadata": {},
   "outputs": [],
   "source": []
  },
  {
   "cell_type": "code",
   "execution_count": 141,
   "metadata": {},
   "outputs": [],
   "source": [
    "def padding(image):\n",
    "    im_shape = image.shape\n",
    "    y = im_shape[0]//8\n",
    "    y = 8 * (y+1)\n",
    "    x = im_shape[1]//8\n",
    "    x = 8 * (x+1)\n",
    "\n",
    "    append1 = np.zeros((im_shape[0], x-im_shape[1], 3), dtype=int)\n",
    "    append2 = np.zeros((y-im_shape[0], x, 3), dtype=int)\n",
    "    image = np.concatenate((image, append1), axis=1)\n",
    "    image = np.concatenate((image, append2), axis=0)\n",
    "    image = np.array(image, dtype='uint8')\n",
    "\n",
    "    return image, im_shape\n"
   ]
  },
  {
   "cell_type": "code",
   "execution_count": 142,
   "metadata": {},
   "outputs": [],
   "source": [
    "def unpad(image, im_shape):\n",
    "    image = np.array(image[:im_shape[0], :im_shape[1], :], dtype='uint8')\n",
    "    return image"
   ]
  },
  {
   "cell_type": "code",
   "execution_count": 143,
   "metadata": {},
   "outputs": [
    {
     "ename": "ZeroDivisionError",
     "evalue": "float division by zero",
     "output_type": "error",
     "traceback": [
      "\u001b[1;31m---------------------------------------------------------------------------\u001b[0m",
      "\u001b[1;31mZeroDivisionError\u001b[0m                         Traceback (most recent call last)",
      "\u001b[1;32mc:\\Users\\User\\Documents\\codage\\projet_IN202 (1)\\projet.ipynb Cell 11\u001b[0m in \u001b[0;36m2\n\u001b[0;32m      <a href='vscode-notebook-cell:/c%3A/Users/User/Documents/codage/projet_IN202%20%281%29/projet.ipynb#X24sZmlsZQ%3D%3D?line=0'>1</a>\u001b[0m compressed \u001b[39m=\u001b[39m unpad(padding(original)[\u001b[39m0\u001b[39m], padding(original)[\u001b[39m1\u001b[39m])\n\u001b[1;32m----> <a href='vscode-notebook-cell:/c%3A/Users/User/Documents/codage/projet_IN202%20%281%29/projet.ipynb#X24sZmlsZQ%3D%3D?line=1'>2</a>\u001b[0m \u001b[39mprint\u001b[39m(psnr(original, compressed))\n",
      "\u001b[1;32mc:\\Users\\User\\Documents\\codage\\projet_IN202 (1)\\projet.ipynb Cell 11\u001b[0m in \u001b[0;36m8\n\u001b[0;32m      <a href='vscode-notebook-cell:/c%3A/Users/User/Documents/codage/projet_IN202%20%281%29/projet.ipynb#X24sZmlsZQ%3D%3D?line=5'>6</a>\u001b[0m mse \u001b[39m=\u001b[39m np\u001b[39m.\u001b[39mmean((original \u001b[39m-\u001b[39m compressed) \u001b[39m*\u001b[39m\u001b[39m*\u001b[39m \u001b[39m2\u001b[39m)\n\u001b[0;32m      <a href='vscode-notebook-cell:/c%3A/Users/User/Documents/codage/projet_IN202%20%281%29/projet.ipynb#X24sZmlsZQ%3D%3D?line=6'>7</a>\u001b[0m max_pixel \u001b[39m=\u001b[39m \u001b[39m255.0\u001b[39m\n\u001b[1;32m----> <a href='vscode-notebook-cell:/c%3A/Users/User/Documents/codage/projet_IN202%20%281%29/projet.ipynb#X24sZmlsZQ%3D%3D?line=7'>8</a>\u001b[0m psnr \u001b[39m=\u001b[39m \u001b[39m20\u001b[39m \u001b[39m*\u001b[39m log10(max_pixel \u001b[39m/\u001b[39;49m sqrt(mse))\n\u001b[0;32m      <a href='vscode-notebook-cell:/c%3A/Users/User/Documents/codage/projet_IN202%20%281%29/projet.ipynb#X24sZmlsZQ%3D%3D?line=8'>9</a>\u001b[0m \u001b[39mreturn\u001b[39;00m psnr\n",
      "\u001b[1;31mZeroDivisionError\u001b[0m: float division by zero"
     ]
    }
   ],
   "source": [
    "compressed = unpad(padding(original)[0], padding(original)[1])\n",
    "print(psnr(original, compressed))"
   ]
  },
  {
   "cell_type": "code",
   "execution_count": null,
   "metadata": {},
   "outputs": [],
   "source": []
  },
  {
   "cell_type": "code",
   "execution_count": 166,
   "metadata": {},
   "outputs": [],
   "source": [
    "def diviser_par_deux(C):\n",
    "    im_shape = C.shape\n",
    "    C1 = np.empty((im_shape[0], int(im_shape[1]/2)), dtype = 'uint8')\n",
    "    for i in range(im_shape[0]):\n",
    "        for j in range(int(im_shape[1]/2)):\n",
    "            C1[i, j] = (C[i, j*2]+ C[i, j*2+1])/2\n",
    "    return C1"
   ]
  },
  {
   "cell_type": "code",
   "execution_count": 174,
   "metadata": {},
   "outputs": [],
   "source": [
    "def multiplier_par_deux(C):\n",
    "    im_shape = C.shape\n",
    "    C1 = np.empty((im_shape[0], im_shape[1]*2), dtype = 'uint8')\n",
    "    for i in range(im_shape[0]):\n",
    "        for j in range(im_shape[1]):\n",
    "            C1[i, j*2] = C[i, j]\n",
    "            C1[i, j*2+1] = C[i, j]\n",
    "    return C1"
   ]
  },
  {
   "cell_type": "code",
   "execution_count": 175,
   "metadata": {},
   "outputs": [
    {
     "name": "stdout",
     "output_type": "stream",
     "text": [
      "(472, 620)\n",
      "(472, 310)\n"
     ]
    },
    {
     "data": {
      "text/plain": [
       "(472, 620)"
      ]
     },
     "execution_count": 175,
     "metadata": {},
     "output_type": "execute_result"
    }
   ],
   "source": [
    "print(cb.shape)\n",
    "print(diviser_par_deux(cb).shape)\n",
    "multiplier_par_deux(diviser_par_deux(cb)).shape"
   ]
  },
  {
   "attachments": {},
   "cell_type": "markdown",
   "metadata": {},
   "source": [
    "## Découpage en blocs et compression"
   ]
  },
  {
   "cell_type": "code",
   "execution_count": null,
   "metadata": {},
   "outputs": [],
   "source": []
  },
  {
   "attachments": {},
   "cell_type": "markdown",
   "metadata": {},
   "source": [
    "## Écriture dans un fichier"
   ]
  },
  {
   "cell_type": "code",
   "execution_count": null,
   "metadata": {},
   "outputs": [],
   "source": []
  },
  {
   "attachments": {},
   "cell_type": "markdown",
   "metadata": {},
   "source": [
    "## Décompression"
   ]
  },
  {
   "attachments": {},
   "cell_type": "markdown",
   "metadata": {},
   "source": [
    "## Tests "
   ]
  },
  {
   "cell_type": "code",
   "execution_count": 4,
   "metadata": {},
   "outputs": [],
   "source": [
    "test = load(\"test.png\")\n",
    "Image.fromarray(test,'RGB').show()\n"
   ]
  }
 ],
 "metadata": {
  "kernelspec": {
   "display_name": "Python 3",
   "language": "python",
   "name": "python3"
  },
  "language_info": {
   "codemirror_mode": {
    "name": "ipython",
    "version": 3
   },
   "file_extension": ".py",
   "mimetype": "text/x-python",
   "name": "python",
   "nbconvert_exporter": "python",
   "pygments_lexer": "ipython3",
   "version": "3.9.12"
  },
  "orig_nbformat": 4,
  "vscode": {
   "interpreter": {
    "hash": "e5f921d2cbc40cc05b5a24db6ba0e6b62c33b50cc3ec097b0c624e897b5a9797"
   }
  }
 },
 "nbformat": 4,
 "nbformat_minor": 2
}
