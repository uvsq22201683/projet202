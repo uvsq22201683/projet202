{
 "cells": [
  {
   "attachments": {},
   "cell_type": "markdown",
   "metadata": {},
   "source": [
    "## Outils pour la manipulation d'images et librairies.\n"
   ]
  },
  {
   "cell_type": "code",
   "execution_count": 1,
   "metadata": {},
   "outputs": [],
   "source": [
    "from PIL import Image\n",
    "import numpy as np\n",
    "import scipy as sp\n",
    "import os\n",
    "from math import log10, sqrt\n",
    "\n",
    "def load(filename):\n",
    "    toLoad= Image.open(filename)\n",
    "    return np.asarray(toLoad)\n",
    "\n",
    "\n",
    "def psnr(original, compressed):\n",
    "    mse = np.mean((original - compressed) ** 2)\n",
    "    max_pixel = 255.0\n",
    "    psnr = 20 * log10(max_pixel / sqrt(mse))\n",
    "    return psnr\n",
    "\n",
    "def dct2(a):\n",
    "    return sp.fft.dct( sp.fft.dct( a, axis=0, norm='ortho' ), axis=1, norm='ortho' )\n",
    "\n",
    "def idct2(a):\n",
    "    return sp.fft.idct( sp.fft.idct( a, axis=0 , norm='ortho'), axis=1 , norm='ortho')\n",
    "\n",
    "def save(a, path):\n",
    "    Image.fromarray(a).save(path)\n",
    "    \n",
    "\n"
   ]
  },
  {
   "attachments": {},
   "cell_type": "markdown",
   "metadata": {},
   "source": [
    "## Normalisation de l'image (YCbCr et padding)"
   ]
  },
  {
   "attachments": {},
   "cell_type": "markdown",
   "metadata": {},
   "source": [
    "#### RGB/YCbCr"
   ]
  },
  {
   "cell_type": "code",
   "execution_count": 2,
   "metadata": {},
   "outputs": [],
   "source": [
    "def to_Y_Cb_Cr(filename): \n",
    "    '''transforme l'img en RGB en YCbCr'''\n",
    "    image = load(filename)\n",
    "    Y = 0.299*image[:, :, 0] + 0.587*image[:, :, 1] + 0.114*image[:, :, 2]\n",
    "    Cb = -0.1687*image[:, :, 0] - 0.3313*image[:, :, 1] + 0.5*image[:, :, 2] + 128\n",
    "    Cr = 0.5*image[:, :, 0] - 0.4187*image[:, :, 1] - 0.0813*image[:, :, 2] +128\n",
    "    return Y, Cb, Cr #pas des int -> perte de l'information sur l'img"
   ]
  },
  {
   "cell_type": "code",
   "execution_count": 212,
   "metadata": {},
   "outputs": [],
   "source": [
    "def to_RGB(Y, Cb, Cr): \n",
    "    '''transforme l'img en YCbCr en RGB'''\n",
    "    R = np.array(np.rint(Y + 1.402*(Cr-128)))\n",
    "    G = np.array(np.rint(Y - 0.34414*(Cb-128) - 0.71414*(Cr-128)))\n",
    "    B = np.array(np.rint(Y + 1.772*(Cb-128)))\n",
    "    image = np.dstack((R,G, B))\n",
    "    image[image < 0] = 0\n",
    "    image[image > 255] = 255\n",
    "    \n",
    "    return image"
   ]
  },
  {
   "attachments": {},
   "cell_type": "markdown",
   "metadata": {},
   "source": [
    "#### Pad/Unpad"
   ]
  },
  {
   "cell_type": "code",
   "execution_count": 4,
   "metadata": {},
   "outputs": [],
   "source": [
    "def padding(image):\n",
    "    '''cree le padding pour avoir les dimenstions de l'images divisibles par 8'''\n",
    "    im_shape = image.shape\n",
    "    y = im_shape[0]//8\n",
    "    y = 8 * (y+1)\n",
    "    x = im_shape[1]//8\n",
    "    x = 8 * (x+1)\n",
    "\n",
    "    append1 = np.zeros((im_shape[0], x-im_shape[1]), dtype=int) #ajout de 0 \"a droite de l'image\"\n",
    "    append2 = np.zeros((y-im_shape[0], x), dtype=int) #ajout de 0 \"en bas de l'image\"\n",
    "    image = np.concatenate((image, append1), axis=1)\n",
    "    image = np.concatenate((image, append2), axis=0) #concatenation avec l'image\n",
    "    image = np.array(image)\n",
    "\n",
    "    return image, im_shape"
   ]
  },
  {
   "cell_type": "code",
   "execution_count": 5,
   "metadata": {},
   "outputs": [],
   "source": [
    "def unpad(image, im_shape):\n",
    "    '''remene l'img a sa dimension initiale'''\n",
    "    image = np.array(image[:im_shape[0], :im_shape[1]])\n",
    "    \n",
    "    return image"
   ]
  },
  {
   "attachments": {},
   "cell_type": "markdown",
   "metadata": {},
   "source": [
    "#### x2 / /2"
   ]
  },
  {
   "cell_type": "code",
   "execution_count": 6,
   "metadata": {},
   "outputs": [],
   "source": [
    "def diviser_par_deux(C):\n",
    "    '''divise par 2 la longeur des crominances'''\n",
    "    im_shape = C.shape\n",
    "    C1 = np.empty((im_shape[0], int(im_shape[1]/2)))\n",
    "    for i in range(im_shape[0]):\n",
    "        for j in range(int(im_shape[1]/2)):\n",
    "            C1[i, j] = (C[i, j*2]+ C[i, j*2+1])/2\n",
    "    return C1"
   ]
  },
  {
   "cell_type": "code",
   "execution_count": 7,
   "metadata": {},
   "outputs": [],
   "source": [
    "def multiplier_par_deux(C):\n",
    "    '''multiplie par 2 la longeur des crominances'''\n",
    "    im_shape = C.shape\n",
    "    C1 = np.empty((im_shape[0], im_shape[1]*2))\n",
    "    for i in range(im_shape[0]):\n",
    "        for j in range(im_shape[1]):\n",
    "            C1[i, j*2] = C[i, j]\n",
    "            C1[i, j*2+1] = C[i, j]\n",
    "    return C1"
   ]
  },
  {
   "attachments": {},
   "cell_type": "markdown",
   "metadata": {},
   "source": [
    "## Découpage en blocs et compression"
   ]
  },
  {
   "attachments": {},
   "cell_type": "markdown",
   "metadata": {},
   "source": [
    "#### decoupage"
   ]
  },
  {
   "cell_type": "code",
   "execution_count": 10,
   "metadata": {},
   "outputs": [],
   "source": [
    "def decouper(matrix):\n",
    "    '''decoupe l'image en blocks 8*8'''\n",
    "    l_matrix = []\n",
    "    im_shape = matrix.shape\n",
    "    for i in range(0, im_shape[0], 8):\n",
    "        for j in range(0, im_shape[1], 8):\n",
    "            l_matrix.append(matrix[i:i+8, j:j+8])\n",
    "    return l_matrix"
   ]
  },
  {
   "cell_type": "code",
   "execution_count": 230,
   "metadata": {},
   "outputs": [],
   "source": [
    "def assembler(blocks, im_shape):\n",
    "    '''rassemble les blocks de 8*8 en une image\n",
    "    im_shape : valeur de la dimension divisee par 8'''\n",
    "\n",
    "    blocks1 = np.empty((im_shape[0], 8, (im_shape[1]*8)))\n",
    "\n",
    "    for i in range(im_shape[0]):\n",
    "        blocks1[i, :, :] = np.concatenate(blocks[((im_shape[1]*i)):(im_shape[1]*(i+1)), :, :], axis = 1) #assemble les blocks ligne par ligne\n",
    "    blocks = np.concatenate(blocks1, axis = 0) #assemble les lignes\n",
    "\n",
    "    return blocks"
   ]
  },
  {
   "attachments": {},
   "cell_type": "markdown",
   "metadata": {},
   "source": [
    "#### dct/idct"
   ]
  },
  {
   "cell_type": "code",
   "execution_count": 12,
   "metadata": {},
   "outputs": [],
   "source": [
    "def appliquer_dct(l_matrix):\n",
    "    for i in range(len(l_matrix)):\n",
    "        l_matrix[i] = dct2(l_matrix[i]).astype('int')\n",
    "    return l_matrix"
   ]
  },
  {
   "cell_type": "code",
   "execution_count": 13,
   "metadata": {},
   "outputs": [],
   "source": [
    "def appliquer_idct(l_matrix):\n",
    "    for i in range(l_matrix.shape[0]):\n",
    "        l_matrix[i] = idct2(l_matrix[i])\n",
    "    return l_matrix"
   ]
  },
  {
   "attachments": {},
   "cell_type": "markdown",
   "metadata": {},
   "source": [
    "#### seuil"
   ]
  },
  {
   "cell_type": "code",
   "execution_count": 14,
   "metadata": {},
   "outputs": [],
   "source": [
    "def seuil(blocks, s):\n",
    "    '''retourne des valeurs dont la valeur absolue est supperieur au seuil'''\n",
    "    for b in blocks:\n",
    "        b[abs(b) < s] = 0\n",
    "    return blocks"
   ]
  },
  {
   "attachments": {},
   "cell_type": "markdown",
   "metadata": {},
   "source": [
    "#### RLE/UnRLE"
   ]
  },
  {
   "cell_type": "code",
   "execution_count": 15,
   "metadata": {},
   "outputs": [],
   "source": [
    "def rle(blocks):\n",
    "    '''remplace les 0 par leur nombre de repetitions consecutives'''\n",
    "    blocks1 = []\n",
    "    for b in blocks:\n",
    "        b1 = []\n",
    "        b = b.astype('str')\n",
    "        repetition = 0\n",
    "        for i in range(8):\n",
    "            for j in range(8):\n",
    "\n",
    "                if b[i, j] == '0':\n",
    "                    repetition += 1\n",
    "                else:\n",
    "                    if repetition != 0:\n",
    "                        b1.append(f'#{repetition}')\n",
    "                        repetition = 0\n",
    "                    b1.append(b[i, j])\n",
    "\n",
    "        if repetition != 0:\n",
    "            b1.append(f'#{repetition}')\n",
    "        \n",
    "        blocks1.append(b1)\n",
    "    \n",
    "    return blocks1\n",
    "\n",
    "\n"
   ]
  },
  {
   "cell_type": "code",
   "execution_count": 16,
   "metadata": {},
   "outputs": [],
   "source": [
    "def unrle(matrix):\n",
    "    '''remplace le mb de repetition de 0 par 0'''\n",
    "    matrix = matrix.split(' ')\n",
    "    blocks = []\n",
    "    for i in range(len(matrix)):\n",
    "        if matrix[i][0] == '#':\n",
    "            for j in range(int(matrix[i][1:])):\n",
    "                blocks.append(0)\n",
    "        else:\n",
    "            blocks.append(int(matrix[i]))\n",
    "    blocks = np.array(blocks)\n",
    "    blocks = np.reshape(blocks, (8,8))\n",
    "    return blocks\n"
   ]
  },
  {
   "attachments": {},
   "cell_type": "markdown",
   "metadata": {},
   "source": [
    "### Bonus"
   ]
  },
  {
   "attachments": {},
   "cell_type": "markdown",
   "metadata": {},
   "source": [
    "#### modes facultatives"
   ]
  },
  {
   "cell_type": "code",
   "execution_count": 17,
   "metadata": {},
   "outputs": [],
   "source": [
    "def mode3(blocks):\n",
    "    '''sauvegardes les 8 valeurs les plus grandes'''\n",
    "    for i in range(len(blocks)):\n",
    "        limit =  np.sort(np.absolute(blocks[i].copy()), axis=None)[-8] \n",
    "        blocks[i][abs(blocks[i]) < limit] = 0 #les valeurs absolues sont prises pour calculer la valeur limite\n",
    "    return blocks"
   ]
  },
  {
   "cell_type": "code",
   "execution_count": 18,
   "metadata": {},
   "outputs": [],
   "source": [
    "Q = np.array([[16, 11, 10, 16, 24, 40, 51, 61],\n",
    "     [12, 12, 14, 19, 26, 58, 60, 55],\n",
    "     [14, 13, 16, 24, 40, 57, 69, 56],\n",
    "     [14, 17, 22, 29, 51, 87, 80, 62],\n",
    "     [18, 22, 37, 56, 68, 109, 103, 77],\n",
    "     [24, 35, 55, 64, 81, 104, 113, 92],\n",
    "     [49, 64, 78, 87, 103, 121, 120, 101],\n",
    "     [72, 92, 95, 98, 112, 100, 103, 99]])"
   ]
  },
  {
   "cell_type": "code",
   "execution_count": 232,
   "metadata": {},
   "outputs": [],
   "source": [
    "def mode4_compress(blocks):\n",
    "    '''divise les valeurs des blocks par Q'''\n",
    "    global Q\n",
    "    for i in range(len(blocks)):\n",
    "        blocks[i] = (blocks[i]/Q).astype('int')\n",
    "    return blocks"
   ]
  },
  {
   "cell_type": "code",
   "execution_count": 233,
   "metadata": {},
   "outputs": [],
   "source": [
    "def mode4_decompress(blocks):\n",
    "    '''multiplie les valeurs des blocks par Q'''\n",
    "    global Q\n",
    "    for i in range(len(blocks)):\n",
    "        blocks[i] = (blocks[i]*Q)\n",
    "    return blocks    "
   ]
  },
  {
   "attachments": {},
   "cell_type": "markdown",
   "metadata": {},
   "source": [
    "#### encodage en Zig-Zag"
   ]
  },
  {
   "cell_type": "code",
   "execution_count": 227,
   "metadata": {},
   "outputs": [],
   "source": [
    "def Zig_zag_rle(blocks):\n",
    "\n",
    "    blocks1 = []\n",
    "    for i in range(len(blocks)):\n",
    "        b1 = []\n",
    "        for j in range(0, 64):\n",
    "            if j < 8:\n",
    "                p_carre = [w[:j] for w in blocks[i][:j]] #prend le carre de taille j*j en haut a gauche du carre 8*8\n",
    "            else:\n",
    "                p_carre = [w[j-9:] for w in blocks[i][j-9:]] #prend le carre de taille j*j en en bas a droite du carre 8*8\n",
    "            diagonale = [p_carre[w][len(p_carre)-w-1] for w in range(len(p_carre))] #prend la diagonale du carre j*j\n",
    "            if len(diagonale) % 2:\n",
    "                diagonale.reverse() \n",
    "            b1 += diagonale \n",
    "\n",
    "        b2 = [] #rle\n",
    "        count_0 = 0\n",
    "        for j in range(0, 65):\n",
    "                if b1[j] == 0:\n",
    "                    count_0 += 1\n",
    "                else:\n",
    "                    if count_0 != 0:\n",
    "                        b2.append(f'#{count_0}')\n",
    "                        count_0 = 0\n",
    "                    b2.append(str(b1[j]))\n",
    "        if count_0 != 0:\n",
    "            b2.append(f'#{count_0}')\n",
    "        blocks1.append(b2)\n",
    "    return blocks1"
   ]
  },
  {
   "cell_type": "code",
   "execution_count": 128,
   "metadata": {},
   "outputs": [],
   "source": [
    "def Zig_zag_unrle(matrix):\n",
    "    \n",
    "    matrix = matrix.split(' ') #unrle\n",
    "    blocks = []\n",
    "    for i in range(len(matrix)):\n",
    "        if matrix[i][0] == '#':\n",
    "            for j in range(int(matrix[i][1:])):\n",
    "                blocks.append(0)\n",
    "        else:\n",
    "            blocks.append(int(matrix[i]))\n",
    "    \n",
    "    blocks1_1 = np.array([[0]*8 for _ in range(8)])\n",
    "    blocks1_2 = np.array([[0]*8 for _ in range(8)])\n",
    "    to = 8\n",
    "    for b in [blocks1_1, blocks1_2]: #fait 2 demi-matrices\n",
    "        total = 0\n",
    "        for i in range(0,to):\n",
    "            for j in range(i+1):\n",
    "                if i%2==0:\n",
    "                    b[i-j, j] = blocks[total] #reconstuit la matrice 8*8 en diagonale\n",
    "                    total += 1\n",
    "                else:\n",
    "                    b[j, i-j] = blocks[total]\n",
    "                    total += 1\n",
    "        to -= 1\n",
    "        blocks = blocks[total:]\n",
    "        blocks.reverse() \n",
    "    \n",
    "    result = np.maximum(blocks1_1, blocks1_2[::-1,::-1]) #renverse la 2e demi-matrice et unifie les 2\n",
    "      \n",
    "    return result"
   ]
  },
  {
   "attachments": {},
   "cell_type": "markdown",
   "metadata": {},
   "source": [
    "## Compression"
   ]
  },
  {
   "attachments": {},
   "cell_type": "markdown",
   "metadata": {},
   "source": [
    "#### rassembler le tout"
   ]
  },
  {
   "cell_type": "code",
   "execution_count": 142,
   "metadata": {},
   "outputs": [],
   "source": [
    "def compress(img_path, mode, nb_de_seuil):\n",
    "    '''applique la compression'''\n",
    "    y, cb, cr = to_Y_Cb_Cr(img_path)\n",
    "    img = [y, cb, cr]\n",
    "\n",
    "    for i in range(3):\n",
    "\n",
    "        if mode >= 2 and i != 0:\n",
    "            img[i] = diviser_par_deux(img[i])\n",
    "\n",
    "        if i == 0:\n",
    "            img[i], initial_shape = padding(img[i])\n",
    "        else:\n",
    "            img[i], _ = padding(img[i])\n",
    "\n",
    "\n",
    "        img[i] = appliquer_dct(decouper(img[i]))\n",
    "        \n",
    "        if mode == 1 or mode == 2:\n",
    "            img[i] = seuil(img[i], nb_de_seuil)\n",
    "            \n",
    "        elif mode == 3:\n",
    "            img[i] = mode3(img[i])\n",
    "        elif mode == 4:\n",
    "            img[i] = mode4_compress(img[i])\n",
    "        \n",
    "\n",
    "    return img[0], img[1], img[2], initial_shape"
   ]
  },
  {
   "attachments": {},
   "cell_type": "markdown",
   "metadata": {},
   "source": [
    "#### Écriture dans un fichier"
   ]
  },
  {
   "cell_type": "code",
   "execution_count": 24,
   "metadata": {},
   "outputs": [],
   "source": [
    "def block_en_ligne(block):\n",
    "    '''transforme int blocks 8*8 en str array 1*64'''\n",
    "    block = np.array(block)\n",
    "    block = block.astype('str')   \n",
    "    block = np.reshape(block, (block.shape[0], 64))\n",
    "    return block.tolist()"
   ]
  },
  {
   "cell_type": "code",
   "execution_count": 244,
   "metadata": {},
   "outputs": [],
   "source": [
    "def assertions(mode, use_rle, nb_de_seuil):\n",
    "    assert type(mode) == int and mode >= 0 and mode < 5, \\\n",
    "        'Veillez de choisir un mode int compris entre 0 et 4'\n",
    "    assert type(use_rle) == str and use_rle in ['NORLE', 'RLE', 'ZIGZAG_RLE'], \\\n",
    "        \"Veillez de choisir use_rle in ['NORLE', 'RLE', 'ZIGZAG_RLE']\"\n",
    "    assert type(nb_de_seuil) == int and nb_de_seuil >= 0, \\\n",
    "        \"Veillez de choisir nombre de seuil int positif\""
   ]
  },
  {
   "cell_type": "code",
   "execution_count": 236,
   "metadata": {},
   "outputs": [],
   "source": [
    "def write_file(img_path, mode = 2, use_rle = 'RLE', nb_de_seuil = 4):\n",
    "    '''ecrit le fichier txt avec l'img compresse'''\n",
    "    assertions(mode, use_rle, nb_de_seuil)\n",
    "    y, cb, cr, initial_shape = compress(img_path, mode, nb_de_seuil)\n",
    "    #y, cb, cr = np.around(y), np.around(cb, 1), np.around(cr, 1)\n",
    "    f = open(img_path[:-4]+'_compressed.txt', 'w')\n",
    "\n",
    "    f.write('SJPG\\n')\n",
    "    f.write(f'{initial_shape[0]} {initial_shape[1]}\\n') \n",
    "    f.write(f'mode {mode}\\n')\n",
    "    f.write(f'{use_rle}\\n')\n",
    "\n",
    "    img = [y, cb, cr]\n",
    "    for i in range(3):\n",
    "        if use_rle == 'NORLE':\n",
    "            img[i] = block_en_ligne(img[i])\n",
    "        elif use_rle == 'RLE':\n",
    "            img[i] = rle(img[i])\n",
    "        elif use_rle == 'ZIGZAG_RLE':\n",
    "            img[i] = Zig_zag_rle(img[i])\n",
    "\n",
    "        for j in img[i]:\n",
    "            f.write(' '.join(j))\n",
    "            f.write('\\n')\n",
    "    \n",
    "    f.close()\n",
    " "
   ]
  },
  {
   "attachments": {},
   "cell_type": "markdown",
   "metadata": {},
   "source": [
    "#### executer compression"
   ]
  },
  {
   "cell_type": "code",
   "execution_count": 26,
   "metadata": {},
   "outputs": [],
   "source": [
    "'''write(img_name, mode_nb, use_rle, nb_de_seuil)\n",
    "params: mode: int 0, 1, 2, 3, 4\n",
    "        use_rle: str NORLE, RLE, ZIGZAG_RLE\n",
    "        nb_de_seuil: int positif\n",
    "'''\n",
    "write_file('test.png', mode = 4, use_rle = 'RLE', nb_de_seuil = 4)"
   ]
  },
  {
   "attachments": {},
   "cell_type": "markdown",
   "metadata": {},
   "source": [
    "## Décompression"
   ]
  },
  {
   "cell_type": "code",
   "execution_count": 118,
   "metadata": {},
   "outputs": [],
   "source": [
    "def str_to_array(padding, im_shape1, lines, use_RLE):\n",
    "    '''transforme la ligne en un block 8*8 et execute le unrle'''\n",
    "    for i in range(2):\n",
    "        im_shape1[i] = im_shape1[i] //8\n",
    "        if im_shape1[i] %8 != 0:\n",
    "            im_shape1[i]  += 1\n",
    "    \n",
    "    blocks = np.empty((int(im_shape1[0]*im_shape1[1]), 8, 8))\n",
    "    for i in range(im_shape1[0]*im_shape1[1]):\n",
    "        if use_RLE == 'RLE':\n",
    "            blocks[i, :, :] = unrle(lines[i+padding].strip())\n",
    "        elif use_RLE == 'ZIGZAG_RLE':\n",
    "            blocks[i, :, :] = Zig_zag_unrle(lines[i+padding].strip())\n",
    "        else:\n",
    "            matrix = lines[i+padding].strip().split(' ')\n",
    "            matrix = np.array(matrix)\n",
    "            matrix = np.reshape(matrix, (8,8))\n",
    "                \n",
    "            blocks[i, :, :] = matrix\n",
    "    \n",
    "    return blocks, i+padding+1"
   ]
  },
  {
   "cell_type": "code",
   "execution_count": 198,
   "metadata": {},
   "outputs": [],
   "source": [
    "def decompresser(path):\n",
    "    '''decompresse l'image'''\n",
    "    f = open(path, 'r')\n",
    "    lines=f.readlines()\n",
    "    f.close()\n",
    "\n",
    "    im_shape = lines[1].strip().split(' ')\n",
    "    im_shape[0] = int(im_shape[0])\n",
    "    im_shape[1] = int(im_shape[1])\n",
    "    \n",
    "    im_shape_initial = im_shape.copy()\n",
    "\n",
    "    mode = int(lines[2][5])\n",
    "    use_rle = lines[3].strip()\n",
    "    \n",
    "    img = [0]*3\n",
    "\n",
    "    padding = 4 #ligne ou commence le block Y\n",
    "    for i in range(3):\n",
    "        if mode >= 2:\n",
    "            if i == 1:\n",
    "                im_shape[1] = int(im_shape[1]/2)\n",
    "\n",
    "\n",
    "        im_shape1 = im_shape.copy()\n",
    "        img[i], padding = str_to_array(padding, im_shape1, lines, use_rle)\n",
    "\n",
    "        if mode == 4:\n",
    "            img[i] = mode4_decompress(img[i])\n",
    "\n",
    "        img[i] = appliquer_idct(img[i])\n",
    "        img[i] = assembler(img[i], im_shape1)\n",
    "    \n",
    "        if mode >= 2:\n",
    "            if i != 0:\n",
    "                img[i] = multiplier_par_deux(img[i])\n",
    "\n",
    "        img[i] = unpad(img[i], im_shape_initial)\n",
    "        \n",
    "    img = to_RGB(img[0], img[1], img[2])\n",
    "    save(img.astype('uint8'), f'{path[:-16]}_decompresse.png')"
   ]
  },
  {
   "cell_type": "code",
   "execution_count": 250,
   "metadata": {},
   "outputs": [],
   "source": [
    "write_file('test.png', mode = 3, use_rle = 'RLE', nb_de_seuil = 30)"
   ]
  },
  {
   "cell_type": "code",
   "execution_count": null,
   "metadata": {},
   "outputs": [],
   "source": [
    "decompresser('test_compressed.txt')"
   ]
  },
  {
   "attachments": {},
   "cell_type": "markdown",
   "metadata": {},
   "source": [
    "## Tests "
   ]
  },
  {
   "cell_type": "code",
   "execution_count": 252,
   "metadata": {},
   "outputs": [
    {
     "name": "stdout",
     "output_type": "stream",
     "text": [
      "39.89633481399582\n"
     ]
    }
   ],
   "source": [
    "test = load(\"test.png\")\n",
    "test1 = load(\"test_decompresse.png\")\n",
    "print(psnr(test, test1))"
   ]
  }
 ],
 "metadata": {
  "kernelspec": {
   "display_name": "Python 3",
   "language": "python",
   "name": "python3"
  },
  "language_info": {
   "codemirror_mode": {
    "name": "ipython",
    "version": 3
   },
   "file_extension": ".py",
   "mimetype": "text/x-python",
   "name": "python",
   "nbconvert_exporter": "python",
   "pygments_lexer": "ipython3",
   "version": "3.9.12"
  },
  "orig_nbformat": 4,
  "vscode": {
   "interpreter": {
    "hash": "e5f921d2cbc40cc05b5a24db6ba0e6b62c33b50cc3ec097b0c624e897b5a9797"
   }
  }
 },
 "nbformat": 4,
 "nbformat_minor": 2
}
